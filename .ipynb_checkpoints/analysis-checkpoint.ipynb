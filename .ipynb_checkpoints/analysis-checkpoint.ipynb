{
 "cells": [
  {
   "cell_type": "code",
   "execution_count": 15,
   "metadata": {},
   "outputs": [
    {
     "data": {
      "text/plain": [
       "[]"
      ]
     },
     "execution_count": 15,
     "metadata": {},
     "output_type": "execute_result"
    }
   ],
   "source": [
    "import pandas as pd\n",
    "import numpy as np\n",
    "import seaborn as sns\n",
    "import matplotlib.pyplot as plt\n",
    "import glob\n",
    "\n",
    "glob.glob('Documents/Data Science/E-commerce project/csv files')"
   ]
  },
  {
   "cell_type": "code",
   "execution_count": 7,
   "metadata": {},
   "outputs": [
    {
     "ename": "NameError",
     "evalue": "name 'df' is not defined",
     "output_type": "error",
     "traceback": [
      "\u001b[1;31m---------------------------------------------------------------------------\u001b[0m",
      "\u001b[1;31mNameError\u001b[0m                                 Traceback (most recent call last)",
      "Cell \u001b[1;32mIn[7], line 19\u001b[0m\n\u001b[0;32m     13\u001b[0m     dataframes\u001b[38;5;241m.\u001b[39mappend(df)\n\u001b[0;32m     15\u001b[0m \u001b[38;5;66;03m# Combine all DataFrames, using an outer join to retain all columns\u001b[39;00m\n\u001b[0;32m     16\u001b[0m \u001b[38;5;66;03m#df = pd.concat(dataframes, join='outer', ignore_index=True)\u001b[39;00m\n\u001b[0;32m     17\u001b[0m \n\u001b[0;32m     18\u001b[0m \u001b[38;5;66;03m# Save the combined DataFrame to a new CSV file (optional)\u001b[39;00m\n\u001b[1;32m---> 19\u001b[0m \u001b[43mdf\u001b[49m\u001b[38;5;241m.\u001b[39mto_csv(\u001b[38;5;124m\"\u001b[39m\u001b[38;5;124mcombined_dataset.csv\u001b[39m\u001b[38;5;124m\"\u001b[39m, index\u001b[38;5;241m=\u001b[39m\u001b[38;5;28;01mFalse\u001b[39;00m)\n\u001b[0;32m     21\u001b[0m \u001b[38;5;66;03m# Display the first few rows of the combined DataFrame\u001b[39;00m\n",
      "\u001b[1;31mNameError\u001b[0m: name 'df' is not defined"
     ]
    }
   ],
   "source": [
    "\n",
    "# Path to the directory containing the CSV files\n",
    "path = r\"Documents/Data Science/E-commerce project/csv files\"\n",
    "\n",
    "# Use glob to get all the CSV files in the directory\n",
    "all_files = glob.glob(path + \"/*.csv\")\n",
    "\n",
    "# List to hold individual DataFrames\n",
    "dataframes = []\n",
    "\n",
    "# Iterate over each file and read it into a DataFrame\n",
    "for file in all_files:\n",
    "    df = pd.read_csv(file)\n",
    "    dataframes.append(df)\n",
    "\n",
    "# Combine all DataFrames, using an outer join to retain all columns\n",
    "#df = pd.concat(dataframes, join='outer', ignore_index=True)\n",
    "\n",
    "# Save the combined DataFrame to a new CSV file (optional)\n",
    "df.to_csv(\"combined_dataset.csv\", index=False)\n",
    "\n",
    "# Display the first few rows of the combined DataFrame\n",
    "\n"
   ]
  },
  {
   "cell_type": "code",
   "execution_count": null,
   "metadata": {},
   "outputs": [],
   "source": [
    "df['rank-title']= df['rank-title'].str.lstrip('#')\n",
    "#df['rank-sub'] = df['rank-sub'].str.lstrip('in')\n",
    "df['price'] = df['price'].str.lstrip('$')\n",
    "df['discount'] = df['discount'].str.lstrip('-')\n",
    "df['discount'] = df['discount'].str.rstrip('%').astype(float)\n",
    "#df['selling_proposition'] = df['selling_proposition'].astype(str)\n",
    "df['selling_proposition'] = df['selling_proposition'].str.replace('+','')\n",
    "df['selling_proposition'] = df['selling_proposition'].str.replace('k','')\n",
    "\n",
    "df.fillna('')\n",
    "\n",
    "for x in df.index:\n",
    "    if df.loc[x,'selling_proposition'] == '':\n",
    "        df.drop(x, inplace=True)\n",
    "\n",
    "df       \n"
   ]
  },
  {
   "cell_type": "code",
   "execution_count": null,
   "metadata": {},
   "outputs": [],
   "source": [
    "for x in df.index:\n",
    "    if df[x] == '':\n",
    "        df.drop(x, inplace=True)\n",
    "\n",
    "df "
   ]
  },
  {
   "cell_type": "code",
   "execution_count": null,
   "metadata": {},
   "outputs": [],
   "source": []
  }
 ],
 "metadata": {
  "kernelspec": {
   "display_name": "Python 3 (ipykernel)",
   "language": "python",
   "name": "python3"
  },
  "language_info": {
   "codemirror_mode": {
    "name": "ipython",
    "version": 3
   },
   "file_extension": ".py",
   "mimetype": "text/x-python",
   "name": "python",
   "nbconvert_exporter": "python",
   "pygments_lexer": "ipython3",
   "version": "3.12.4"
  }
 },
 "nbformat": 4,
 "nbformat_minor": 4
}
